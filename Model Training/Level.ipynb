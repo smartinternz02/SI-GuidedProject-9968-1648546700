{
 "cells": [
  {
   "cell_type": "code",
   "execution_count": 1,
   "id": "f04fd453",
   "metadata": {},
   "outputs": [],
   "source": [
    "#from google.colab import drive\n",
    "#drive.mount(\"/content/drive/\")"
   ]
  },
  {
   "cell_type": "markdown",
   "id": "c3b49508",
   "metadata": {},
   "source": [
    "IMPORTING PACKAGES"
   ]
  },
  {
   "cell_type": "code",
   "execution_count": 1,
   "id": "7230d818",
   "metadata": {},
   "outputs": [],
   "source": [
    "from tensorflow.keras.preprocessing.image import ImageDataGenerator\n",
    "from tensorflow.keras.models import Model\n",
    "from tensorflow.keras.layers import Dense,Convolution2D,MaxPooling2D,Flatten\n",
    "from tensorflow.keras.initializers import RandomNormal\n",
    "from tensorflow.keras.optimizers import Adam\n",
    "from tensorflow.keras.losses import CategoricalCrossentropy\n",
    "from tensorflow.keras.applications import VGG16\n",
    "import cv2\n",
    "from tensorflow.keras.models import load_model\n",
    "import numpy as np\n"
   ]
  },
  {
   "cell_type": "markdown",
   "id": "1e584423",
   "metadata": {},
   "source": [
    "IMPORTING TRAINING DATA"
   ]
  },
  {
   "cell_type": "code",
   "execution_count": 2,
   "id": "5c1ea152",
   "metadata": {},
   "outputs": [],
   "source": [
    "image_generator=ImageDataGenerator(vertical_flip=False,horizontal_flip=True,shear_range=0.1,zoom_range=0.1,rescale=1/255,brightness_range=(0.2,0.8))\n",
    "X_train1=image_generator.flow_from_directory(target_size=(224,224),\n",
    "                                    directory=\"C:\\\\Users\\\\ASUS\\\\Desktop\\\\AI COURSE\\\\Project\\\\training1\",\n",
    "                                    class_mode=\"categorical\",\n",
    "                                   batch_size=10,\n",
    "                                            subset=\"training\")"
   ]
  },
  {
   "cell_type": "markdown",
   "id": "ed88eb0c",
   "metadata": {},
   "source": [
    "IMPORTING TESTING DATA"
   ]
  },
  {
   "cell_type": "code",
   "execution_count": 4,
   "id": "edac2589",
   "metadata": {},
   "outputs": [
    {
     "name": "stdout",
     "output_type": "stream",
     "text": [
      "Found 171 images belonging to 3 classes.\n"
     ]
    }
   ],
   "source": [
    "image_generator_1=ImageDataGenerator(vertical_flip=False,horizontal_flip=True,shear_range=0.1,zoom_range=0.1,rescale=1/255,brightness_range=(0.2,0.8))\n",
    "X_test1=image_generator_1.flow_from_directory(target_size=(224,224),\n",
    "                                    directory=\"C:\\\\Users\\\\ASUS\\\\Desktop\\\\AI COURSE\\\\Project\\\\validation1\",\n",
    "                                    class_mode=\"categorical\",\n",
    "                                   batch_size=10,\n",
    "                                )"
   ]
  },
  {
   "cell_type": "markdown",
   "id": "e54351cc",
   "metadata": {},
   "source": [
    "INITIALIZING MODEL"
   ]
  },
  {
   "cell_type": "code",
   "execution_count": 6,
   "id": "a8b17873",
   "metadata": {},
   "outputs": [],
   "source": [
    "vgg16=VGG16(include_top=False,input_shape=(224,224,3),weights='imagenet')\n",
    "for i in vgg16.layers:\n",
    "  i.trainable=False"
   ]
  },
  {
   "cell_type": "markdown",
   "id": "b90dd90e",
   "metadata": {},
   "source": [
    "ADD FLATTEN LAYER"
   ]
  },
  {
   "cell_type": "code",
   "execution_count": null,
   "id": "f5cdce83",
   "metadata": {},
   "outputs": [],
   "source": [
    "flatten_layer=Flatten()(vgg16.output)"
   ]
  },
  {
   "cell_type": "markdown",
   "id": "5db802f0",
   "metadata": {},
   "source": [
    "ADDING DENSE LAYER"
   ]
  },
  {
   "cell_type": "code",
   "execution_count": null,
   "id": "a06a1853",
   "metadata": {},
   "outputs": [],
   "source": [
    "dense32=Dense(32,kernel_initializer=RandomNormal,activation=\"relu\")(flatten_layer)\n",
    "output=Dense(3,activation=\"softmax\")(dense32)"
   ]
  },
  {
   "cell_type": "markdown",
   "id": "e879b681",
   "metadata": {},
   "source": [
    "BUILDING MODEL"
   ]
  },
  {
   "cell_type": "code",
   "execution_count": 22,
   "id": "e0b07992",
   "metadata": {},
   "outputs": [],
   "source": [
    "model1=Model(inputs=vgg16.input,outputs=output)\n",
    "model1.summary()"
   ]
  },
  {
   "cell_type": "markdown",
   "id": "dffd6784",
   "metadata": {},
   "source": [
    "INITILAIZE LEARNING PARAMETERS"
   ]
  },
  {
   "cell_type": "code",
   "execution_count": 23,
   "id": "37b23fc7",
   "metadata": {},
   "outputs": [],
   "source": [
    "model1.compile(loss=CategoricalCrossentropy(),\n",
    "              optimizer=Adam(epsilon=0.001),\n",
    "              metrics=[\"acc\"])"
   ]
  },
  {
   "cell_type": "markdown",
   "id": "c82a7dcc",
   "metadata": {},
   "source": [
    "FITTING DATA TO THE MODEL"
   ]
  },
  {
   "cell_type": "code",
   "execution_count": null,
   "id": "d3d78c53",
   "metadata": {},
   "outputs": [],
   "source": [
    "model1.fit(X_train1,validation_data=X_test1,epochs=5,steps_per_epoch=30,validation_batch_size=30)"
   ]
  },
  {
   "cell_type": "markdown",
   "id": "13d6631b",
   "metadata": {},
   "source": [
    "SAVING THE MODEL"
   ]
  },
  {
   "cell_type": "code",
   "execution_count": 45,
   "id": "3426d6ad",
   "metadata": {},
   "outputs": [],
   "source": [
    "model1.save(\"LevelModel.h5\")"
   ]
  },
  {
   "cell_type": "markdown",
   "id": "a80b7e82",
   "metadata": {},
   "source": [
    "LOAD MODEL"
   ]
  },
  {
   "cell_type": "code",
   "execution_count": null,
   "id": "c32b2fae",
   "metadata": {},
   "outputs": [],
   "source": [
    "model = load_model('LevelModel.h5')"
   ]
  },
  {
   "cell_type": "markdown",
   "id": "f5ba8b0c",
   "metadata": {},
   "source": []
  },
  {
   "cell_type": "code",
   "execution_count": null,
   "id": "2a9bf9e7",
   "metadata": {},
   "outputs": [],
   "source": [
    "def detect(frame):\n",
    "    img = cv2.resize(frame, (224, 224))\n",
    "    if(np.max(img) > 1):\n",
    "        img = img/255.0\n",
    "    img = np.array([img])\n",
    "    prediction = model.predict(img)\n",
    "    label = [\"minor\", \"moderate\", \"severe\"]\n",
    "    preds = label[np.argmax(prediction)]\n",
    "    return preds"
   ]
  }
 ],
 "metadata": {
  "interpreter": {
   "hash": "a23257344542c70b70a498512f46db94a3a7f44d371a6893c689768adca66338"
  },
  "kernelspec": {
   "display_name": "Python 3",
   "language": "python",
   "name": "python3"
  },
  "language_info": {
   "codemirror_mode": {
    "name": "ipython",
    "version": 3
   },
   "file_extension": ".py",
   "mimetype": "text/x-python",
   "name": "python",
   "nbconvert_exporter": "python",
   "pygments_lexer": "ipython3",
   "version": "3.7.0"
  }
 },
 "nbformat": 4,
 "nbformat_minor": 5
}
